{
 "cells": [
  {
   "cell_type": "markdown",
   "metadata": {
    "id": "_dbwZ9_ftkx2"
   },
   "source": [
    "# Data Collections 2 (Dictionaries, Sets) and Importing Modules"
   ]
  },
  {
   "cell_type": "markdown",
   "metadata": {
    "id": "hZhMxkHgtkx-"
   },
   "source": [
    "## Tasks Today:\n",
    "\n",
    "1) Dictionary <br>\n",
    " &nbsp;&nbsp;&nbsp;&nbsp; a) Declaring (key, value) <br>\n",
    " &nbsp;&nbsp;&nbsp;&nbsp; b) Accessing Values <br>\n",
    " &nbsp;&nbsp;&nbsp;&nbsp; ------ Exercise #1 - Print the eye color of each person in a double nested dict <br>\n",
    " &nbsp;&nbsp;&nbsp;&nbsp; c) Adding New Pairs <br>\n",
    " &nbsp;&nbsp;&nbsp;&nbsp; d) Modifying Values <br>\n",
    " &nbsp;&nbsp;&nbsp;&nbsp; e) Removing Key, Value Pairs <br>\n",
    " &nbsp;&nbsp;&nbsp;&nbsp; f) Looping a Dictionary <br>\n",
    " &nbsp;&nbsp;&nbsp;&nbsp; g) Looping Only Keys <br>\n",
    " &nbsp;&nbsp;&nbsp;&nbsp; h) Looping Only Values <br>\n",
    " &nbsp;&nbsp;&nbsp;&nbsp; ------ Exercise #2 - Create a Function that Prints All Key Value Pairs within a print .format()  <br>\n",
    " &nbsp;&nbsp;&nbsp;&nbsp; i) sorted() <br>\n",
    " &nbsp;&nbsp;&nbsp;&nbsp; j) Lists with Dictionaries <br>\n",
    " &nbsp;&nbsp;&nbsp;&nbsp; k) Dictionaries with Lists <br>\n",
    " &nbsp;&nbsp;&nbsp;&nbsp; l) Dictionaries with Dictionaries <br>\n",
    " &nbsp;&nbsp;&nbsp;&nbsp; ------ Exercise #3 - Write a Function that asks someone's name and address, and then stores that into a dictionary, which prints all names and addresses after they're done putting information in...  <br>\n",
    "2) Dictionaries vs. Lists (over time)<br>\n",
    "3) Set <br>\n",
    " &nbsp;&nbsp;&nbsp;&nbsp; a) Declaring <br>\n",
    " &nbsp;&nbsp;&nbsp;&nbsp; b) .add() <br>\n",
    " &nbsp;&nbsp;&nbsp;&nbsp; c) .remove() <br>\n",
    " &nbsp;&nbsp;&nbsp;&nbsp; d) .union() <br>\n",
    " &nbsp;&nbsp;&nbsp;&nbsp; e) .intersection() <br>\n",
    " &nbsp;&nbsp;&nbsp;&nbsp; f) .difference() <br>\n",
    " &nbsp;&nbsp;&nbsp;&nbsp; g) Frozen Set <br>\n",
    "4) Modules <br>\n",
    " &nbsp;&nbsp;&nbsp;&nbsp; a) Importing Entire Modules <br>\n",
    " &nbsp;&nbsp;&nbsp;&nbsp; b) Importing Methods Only <br>\n",
    " &nbsp;&nbsp;&nbsp;&nbsp; c) Using the 'as' Keyword <br>\n",
    " &nbsp;&nbsp;&nbsp;&nbsp; d) Creating a Module <br>\n",
    "5) Exercises <br>\n",
    " &nbsp;&nbsp;&nbsp;&nbsp; a) Build a Shopping Cart <br>\n",
    " &nbsp;&nbsp;&nbsp;&nbsp; b) Create Your Own Module <br>"
   ]
  },
  {
   "cell_type": "markdown",
   "metadata": {
    "id": "WpN9NLR-tkyB"
   },
   "source": [
    "## Dictionary <br>\n",
    "<p>A collection of data with 'key:value' pairs. Dictionaries are ordered as of Python 3.6</p>"
   ]
  },
  {
   "cell_type": "markdown",
   "metadata": {
    "id": "FE6o-BdAtkyC"
   },
   "source": [
    "##### Declaring (key, value)"
   ]
  },
  {
   "cell_type": "code",
   "execution_count": null,
   "metadata": {
    "id": "QBuYirAgtkyC"
   },
   "outputs": [],
   "source": [
    "profile:\n",
    "    first name: kevin\n",
    "    last name: beier\n",
    "    email: kevinb@coding.temple.com\n",
    "    age: 99\n",
    "    weight: 240"
   ]
  },
  {
   "cell_type": "code",
   "execution_count": 2,
   "metadata": {},
   "outputs": [
    {
     "name": "stdout",
     "output_type": "stream",
     "text": [
      "<class 'dict'>\n"
     ]
    }
   ],
   "source": [
    "d = dict()\n",
    "print(type(d))"
   ]
  },
  {
   "cell_type": "code",
   "execution_count": null,
   "metadata": {},
   "outputs": [],
   "source": [
    "d = {}"
   ]
  },
  {
   "cell_type": "code",
   "execution_count": null,
   "metadata": {},
   "outputs": [],
   "source": []
  },
  {
   "cell_type": "markdown",
   "metadata": {
    "id": "Sryp6ya9tkyE"
   },
   "source": [
    "##### Accessing Values"
   ]
  },
  {
   "cell_type": "code",
   "execution_count": 5,
   "metadata": {
    "id": "OE-XnHcutkyF",
    "outputId": "fbfec701-a420-417a-c43d-2dffa5092462"
   },
   "outputs": [
    {
     "name": "stdout",
     "output_type": "stream",
     "text": [
      "{'key': 'value', 'name': 'Marcus', 123: 'interger', 'position': 'DE'}\n"
     ]
    }
   ],
   "source": [
    "d1 = {\n",
    "    \"key\":\"value\",\n",
    "    \"name\": \"Marcus\",\n",
    "    123:\"interger\",\n",
    "    \"position\": \"DE\"\n",
    "    \n",
    "}\n",
    "print(d1)"
   ]
  },
  {
   "cell_type": "code",
   "execution_count": 16,
   "metadata": {},
   "outputs": [
    {
     "name": "stdout",
     "output_type": "stream",
     "text": [
      "value\n",
      "Marcus\n",
      "interger\n",
      "Marcus is the new DE and he is an animal\n"
     ]
    }
   ],
   "source": [
    "d1 = {\n",
    "    \"key\":\"value\",\n",
    "    \"name\": \"Marcus\",\n",
    "    123:\"interger\",\n",
    "    \"position\": \"DE\"\n",
    "    \n",
    "}\n",
    "\n",
    "print(d1[\"key\"])\n",
    "print(d1[\"name\"])\n",
    "print(d1[123])\n",
    "d1[\"position\"]\n",
    "\n",
    "print(f'{d1[\"name\"]} is the new {d1[\"position\"]} and he is an animal')"
   ]
  },
  {
   "cell_type": "markdown",
   "metadata": {
    "id": "bKzCusj9tkyH"
   },
   "source": [
    "## In-Class Exercise #1 - Print a formatted statement from the dictionary below <br>\n",
    "<p>The output should be '2018 Chevrolet Silverado'</p>"
   ]
  },
  {
   "cell_type": "code",
   "execution_count": 13,
   "metadata": {
    "id": "_sAQmOOytkyI",
    "outputId": "e91511e3-ac85-4201-de7c-2e65c72c4a35"
   },
   "outputs": [
    {
     "name": "stdout",
     "output_type": "stream",
     "text": [
      "I really want to buy a 2024 Ford Raptor\n"
     ]
    }
   ],
   "source": [
    "# use the dict below\n",
    "truck = {\n",
    "    'age': 2024,\n",
    "    'type': 'Ford',\n",
    "    'model': 'Raptor'\n",
    "}\n",
    "\n",
    "print(f\"I really want to buy a {truck['age']} {truck['type']} {truck['model']}\")\n"
   ]
  },
  {
   "cell_type": "markdown",
   "metadata": {},
   "source": [
    "# .get()"
   ]
  },
  {
   "cell_type": "code",
   "execution_count": 20,
   "metadata": {},
   "outputs": [
    {
     "name": "stdout",
     "output_type": "stream",
     "text": [
      "Dylan\n",
      "None\n",
      "21\n"
     ]
    }
   ],
   "source": [
    "ds = {\n",
    "    \"first_name\": \"Dylan\",\n",
    "    \"last_name\": \"Smith\",\n",
    "    \"no_of_showers_this_year\": 3.5,\n",
    "    \"taste_in_music\": \"Bad\",\n",
    "    \"states_seen\": 45\n",
    "}\n",
    "\n",
    "print(ds[\"first_name\"])\n",
    "\n",
    "#print(ds[\"age\"]) <--- does not exist\n",
    "\n",
    "print(ds.get(\"age\"))\n",
    "print(ds.get(\"age\",21))\n",
    "\n",
    "#.get() is very slow"
   ]
  },
  {
   "cell_type": "code",
   "execution_count": 24,
   "metadata": {},
   "outputs": [
    {
     "name": "stdout",
     "output_type": "stream",
     "text": [
      "Dylan is 99\n",
      "Kevin is 16\n"
     ]
    }
   ],
   "source": [
    "ds = {\n",
    "    \"first_name\": \"Dylan\",\n",
    "    \"last_name\": \"Smith\",\n",
    "    \"no_of_showers_this_year\": 3.5,\n",
    "    \"taste_in_music\": \"Bad\",\n",
    "    \"states_seen\": 45\n",
    "}\n",
    "\n",
    "kb = {\n",
    "    \"first_name\": \"Kevin\",\n",
    "    \"last_name\": \"Beier\",\n",
    "    \"no_of_showers_this_year\": 250,\n",
    "    \"taste_in_music\": \"amazing\",\n",
    "    \"states_seen\": 30,\n",
    "    \"age\":16\n",
    "}\n",
    "\n",
    "teachers = [ds,kb]\n",
    "\n",
    "for teacher in teachers:\n",
    "    print(f\"{teacher['first_name']} is {teacher.get('age',99)}\")"
   ]
  },
  {
   "cell_type": "markdown",
   "metadata": {
    "id": "LDXE44vHtkyK"
   },
   "source": [
    "##### Adding New Pairs"
   ]
  },
  {
   "cell_type": "code",
   "execution_count": 26,
   "metadata": {
    "id": "HEfFRiyFtkyL",
    "outputId": "f423f15c-4015-4aad-fa3d-6955f6ede6d6"
   },
   "outputs": [
    {
     "name": "stdout",
     "output_type": "stream",
     "text": [
      "{'first_name': 'Dylan', 'last_name': 'Smith', 'no_of_showers_this_year': 3.5, 'taste_in_music': 'Bad', 'states_seen': 45, 'age': 32}\n"
     ]
    }
   ],
   "source": [
    "# dict[key] = value\n",
    "ds= {\n",
    "    \"first_name\": \"Dylan\",\n",
    "    \"last_name\": \"Smith\",\n",
    "    \"no_of_showers_this_year\": 3.5,\n",
    "    \"taste_in_music\": \"Bad\",\n",
    "    \"states_seen\": 45\n",
    "}\n",
    "\n",
    "ds['age'] = 32 #<----adding it in\n",
    "print(ds)"
   ]
  },
  {
   "cell_type": "code",
   "execution_count": 28,
   "metadata": {},
   "outputs": [
    {
     "name": "stdout",
     "output_type": "stream",
     "text": [
      "{'first_name': 'Dylan', 'last_name': 'Smith', 'no_of_showers_this_year': 3.5, 'taste_in_music': 'Bad', 'states_seen': 45, 'age': 32, 'weights': 250}\n"
     ]
    }
   ],
   "source": [
    "my_new_key = \"weight\"\n",
    "ds[my_new_key+\"s\"] = 250\n",
    "print(ds)"
   ]
  },
  {
   "cell_type": "markdown",
   "metadata": {
    "id": "JINLY2qGtkyL"
   },
   "source": [
    "##### Modifying Values"
   ]
  },
  {
   "cell_type": "code",
   "execution_count": 30,
   "metadata": {
    "id": "H2fb1ydVtkyM",
    "outputId": "ac96a79e-aee7-41e9-cd02-90c6b9bbd79b"
   },
   "outputs": [
    {
     "name": "stdout",
     "output_type": "stream",
     "text": [
      "{'first_name': 'Dylan', 'last_name': 'Smith', 'no_of_showers_this_year': 5.5, 'taste_in_music': 'Bad', 'states_seen': 45, 'age': 32, 'weights': 250}\n"
     ]
    }
   ],
   "source": [
    "ds[\"no_of_showers_this_year\"] += 1\n",
    "print(ds)"
   ]
  },
  {
   "cell_type": "code",
   "execution_count": 31,
   "metadata": {},
   "outputs": [
    {
     "name": "stdout",
     "output_type": "stream",
     "text": [
      "{'first_name': 'Dylan', 'last_name': 'Cervantez', 'no_of_showers_this_year': 5.5, 'taste_in_music': 'Bad', 'states_seen': 45, 'age': 32, 'weights': 250}\n"
     ]
    }
   ],
   "source": [
    "ds [\"last_name\"] = \"Cervantez\"\n",
    "print(ds)"
   ]
  },
  {
   "cell_type": "code",
   "execution_count": 32,
   "metadata": {},
   "outputs": [
    {
     "name": "stdout",
     "output_type": "stream",
     "text": [
      "{'first_name': 'Dylan', 'last_name': 'Smith', 'no_of_showers_this_year': 3.5, 'taste_in_music': 'Bad', 'states_seen': 45, 'age': 32}\n"
     ]
    }
   ],
   "source": [
    "ds= {\n",
    "    \"first_name\": \"Dylan\",\n",
    "    \"last_name\": \"Smith\",\n",
    "    \"no_of_showers_this_year\": 3.5,\n",
    "    \"taste_in_music\": \"Bad\",\n",
    "    \"states_seen\": 45\n",
    "}\n",
    "ds.update({\"age\":32})\n",
    "print(ds)"
   ]
  },
  {
   "cell_type": "code",
   "execution_count": 33,
   "metadata": {},
   "outputs": [
    {
     "ename": "TypeError",
     "evalue": "unsupported operand type(s) for +: 'dict' and 'dict'",
     "output_type": "error",
     "traceback": [
      "\u001b[1;31m---------------------------------------------------------------------------\u001b[0m",
      "\u001b[1;31mTypeError\u001b[0m                                 Traceback (most recent call last)",
      "Cell \u001b[1;32mIn [33], line 3\u001b[0m\n\u001b[0;32m      1\u001b[0m \u001b[38;5;66;03m#cannot do\u001b[39;00m\n\u001b[1;32m----> 3\u001b[0m \u001b[43m{\u001b[49m\u001b[38;5;124;43m\"\u001b[39;49m\u001b[38;5;124;43mname\u001b[39;49m\u001b[38;5;124;43m\"\u001b[39;49m\u001b[43m:\u001b[49m\u001b[38;5;124;43m\"\u001b[39;49m\u001b[38;5;124;43msteve\u001b[39;49m\u001b[38;5;124;43m\"\u001b[39;49m\u001b[43m}\u001b[49m\u001b[38;5;241;43m+\u001b[39;49m\u001b[43m{\u001b[49m\u001b[38;5;124;43m\"\u001b[39;49m\u001b[38;5;124;43mage\u001b[39;49m\u001b[38;5;124;43m\"\u001b[39;49m\u001b[43m:\u001b[49m\u001b[38;5;241;43m42\u001b[39;49m\u001b[43m}\u001b[49m\n",
      "\u001b[1;31mTypeError\u001b[0m: unsupported operand type(s) for +: 'dict' and 'dict'"
     ]
    }
   ],
   "source": [
    "#cannot do\n",
    "\n",
    "{\"name\":\"steve\"}+{\"age\":42}"
   ]
  },
  {
   "cell_type": "code",
   "execution_count": 34,
   "metadata": {},
   "outputs": [
    {
     "name": "stdout",
     "output_type": "stream",
     "text": [
      "{'first_name': 'Dylan', 'last_name': 'Smith', 'no_of_showers_this_year': 3.5, 'taste_in_music': 'Bad', 'states_seen': 45, 'age': 32}\n"
     ]
    }
   ],
   "source": [
    "new_dict = {**ds}\n",
    "print(new_dict)"
   ]
  },
  {
   "cell_type": "code",
   "execution_count": 37,
   "metadata": {},
   "outputs": [
    {
     "name": "stdout",
     "output_type": "stream",
     "text": [
      "x is 1\n",
      "y is 2\n",
      "z is 3\n",
      "x is 1\n",
      "y is 2\n",
      "z is 3\n"
     ]
    }
   ],
   "source": [
    "def test_func(x,y,z):\n",
    "    print(\"x is\", x)\n",
    "    print(\"y is\", y)\n",
    "    print(\"z is\", z)\n",
    "    \n",
    "test_func(x=1, y=2, z=3)\n",
    "my_params={\n",
    "    \"x\":1,\n",
    "    \"y\":2,\n",
    "    \"z\":3,\n",
    "}\n",
    "\n",
    "test_func(**my_params)"
   ]
  },
  {
   "cell_type": "code",
   "execution_count": null,
   "metadata": {
    "id": "WeiLN5GEtkyM"
   },
   "outputs": [],
   "source": [
    "##### Removing Key, Value Pairs"
   ]
  },
  {
   "cell_type": "code",
   "execution_count": 39,
   "metadata": {
    "id": "JQiDdU-AtkyN",
    "outputId": "35f25764-c6f0-4a9c-8a0d-79c68bdacfa8"
   },
   "outputs": [
    {
     "name": "stdout",
     "output_type": "stream",
     "text": [
      "{'first_name': 'Dylan', 'last_name': 'Smith', 'taste_in_music': 'Bad', 'states_seen': 45}\n"
     ]
    }
   ],
   "source": [
    "# del dict[key]\n",
    "\n",
    "ds = {\n",
    "    \"first_name\": \"Dylan\",\n",
    "    \"last_name\": \"Smith\",\n",
    "    \"no_of_showers_this_year\": 3.5,\n",
    "    \"taste_in_music\": \"Bad\",\n",
    "    \"states_seen\": 45\n",
    "}\n",
    "\n",
    "del ds[\"no_of_showers_this_year\"]\n",
    "print(ds)"
   ]
  },
  {
   "cell_type": "markdown",
   "metadata": {
    "id": "E_XuuKdptkyN"
   },
   "source": [
    "##### Looping a Dictionary"
   ]
  },
  {
   "cell_type": "code",
   "execution_count": 45,
   "metadata": {
    "id": "pcaJnqF1tkyN",
    "outputId": "45da30ae-bbad-490d-cc00-72d5033cf4ca"
   },
   "outputs": [
    {
     "name": "stdout",
     "output_type": "stream",
     "text": [
      "first_name\n",
      "Dylan\n",
      "last_name\n",
      "Smith\n",
      "taste_in_music\n",
      "Bad\n",
      "states_seen\n",
      "45\n"
     ]
    }
   ],
   "source": [
    "#best way to loop over the keys of dict\":\n",
    "\n",
    "for key in ds:\n",
    "    print(key) #key\n",
    "    print(ds[key]) #value"
   ]
  },
  {
   "cell_type": "markdown",
   "metadata": {
    "id": "PQ23H2vJtkyO"
   },
   "source": [
    "##### Looping Only Keys"
   ]
  },
  {
   "cell_type": "code",
   "execution_count": 48,
   "metadata": {
    "id": "mwSj3CnZtkyO",
    "outputId": "22b60815-61e7-4246-b94d-dcb6efc7e494"
   },
   "outputs": [
    {
     "data": {
      "text/plain": [
       "dict_keys(['first_name', 'last_name', 'taste_in_music', 'states_seen'])"
      ]
     },
     "execution_count": 48,
     "metadata": {},
     "output_type": "execute_result"
    }
   ],
   "source": [
    "ds.keys()\n"
   ]
  },
  {
   "cell_type": "markdown",
   "metadata": {
    "id": "MBZlYQzVtkyO"
   },
   "source": [
    "##### Looping Only Values"
   ]
  },
  {
   "cell_type": "code",
   "execution_count": 49,
   "metadata": {
    "id": "TBjtOjM5tkyP",
    "outputId": "a4989be5-d831-401e-e9d4-e9e180815666"
   },
   "outputs": [
    {
     "data": {
      "text/plain": [
       "dict_values(['Dylan', 'Smith', 'Bad', 45])"
      ]
     },
     "execution_count": 49,
     "metadata": {},
     "output_type": "execute_result"
    }
   ],
   "source": [
    "ds.values()"
   ]
  },
  {
   "cell_type": "code",
   "execution_count": null,
   "metadata": {},
   "outputs": [],
   "source": [
    "w"
   ]
  },
  {
   "cell_type": "code",
   "execution_count": null,
   "metadata": {},
   "outputs": [],
   "source": []
  },
  {
   "cell_type": "markdown",
   "metadata": {
    "id": "sXNEqY_PtkyP"
   },
   "source": [
    "## In-Class Exercise #2 - Create a Function that Prints All Key Value Pairs within a print .format() <br>\n",
    "<p><b>Output should be:</b><br>\n",
    "Max has blue eyes<br>\n",
    "Lilly has brown eyes<br>\n",
    "Barney has blue eyes<br>\n",
    "etc.\n",
    "</p>"
   ]
  },
  {
   "cell_type": "code",
   "execution_count": 2,
   "metadata": {
    "id": "WycbNHQRtkyP",
    "outputId": "752849d7-5ba4-4fce-850e-ee1fc5f1a2ee"
   },
   "outputs": [
    {
     "ename": "AttributeError",
     "evalue": "'function' object has no attribute 'items'",
     "output_type": "error",
     "traceback": [
      "\u001b[1;31m---------------------------------------------------------------------------\u001b[0m",
      "\u001b[1;31mAttributeError\u001b[0m                            Traceback (most recent call last)",
      "Cell \u001b[1;32mIn [2], line 14\u001b[0m\n\u001b[0;32m     12\u001b[0m     \u001b[38;5;28;01mfor\u001b[39;00m key,value \u001b[38;5;129;01min\u001b[39;00m people\u001b[38;5;241m.\u001b[39mitems():\n\u001b[0;32m     13\u001b[0m         \u001b[38;5;28mprint\u001b[39m(\u001b[38;5;124mf\u001b[39m\u001b[38;5;124m\"\u001b[39m\u001b[38;5;132;01m{\u001b[39;00mkey\u001b[38;5;132;01m}\u001b[39;00m\u001b[38;5;124m has \u001b[39m\u001b[38;5;132;01m{\u001b[39;00mvalue\u001b[38;5;132;01m}\u001b[39;00m\u001b[38;5;124m colored eyes\u001b[39m\u001b[38;5;124m\"\u001b[39m)\n\u001b[1;32m---> 14\u001b[0m \u001b[43mpeople\u001b[49m\u001b[43m(\u001b[49m\u001b[43m)\u001b[49m\n",
      "Cell \u001b[1;32mIn [2], line 12\u001b[0m, in \u001b[0;36mpeople\u001b[1;34m()\u001b[0m\n\u001b[0;32m     11\u001b[0m \u001b[38;5;28;01mdef\u001b[39;00m \u001b[38;5;21mpeople\u001b[39m():\n\u001b[1;32m---> 12\u001b[0m     \u001b[38;5;28;01mfor\u001b[39;00m key,value \u001b[38;5;129;01min\u001b[39;00m \u001b[43mpeople\u001b[49m\u001b[38;5;241;43m.\u001b[39;49m\u001b[43mitems\u001b[49m():\n\u001b[0;32m     13\u001b[0m         \u001b[38;5;28mprint\u001b[39m(\u001b[38;5;124mf\u001b[39m\u001b[38;5;124m\"\u001b[39m\u001b[38;5;132;01m{\u001b[39;00mkey\u001b[38;5;132;01m}\u001b[39;00m\u001b[38;5;124m has \u001b[39m\u001b[38;5;132;01m{\u001b[39;00mvalue\u001b[38;5;132;01m}\u001b[39;00m\u001b[38;5;124m colored eyes\u001b[39m\u001b[38;5;124m\"\u001b[39m)\n",
      "\u001b[1;31mAttributeError\u001b[0m: 'function' object has no attribute 'items'"
     ]
    }
   ],
   "source": [
    "# use the dict below\n",
    "\n",
    "people = {\n",
    "    'Max': 'blue',\n",
    "    'Lilly': 'brown',\n",
    "    'Barney': 'blue',\n",
    "    'Larney': 'brown',\n",
    "    'Ted': 'purple'\n",
    "}\n",
    "\n",
    "def people():\n",
    "    for key,value in people.items():\n",
    "        print(f\"{key} has {value} colored eyes\")\n",
    "people()\n",
    "\n"
   ]
  },
  {
   "cell_type": "code",
   "execution_count": 7,
   "metadata": {},
   "outputs": [
    {
     "name": "stdout",
     "output_type": "stream",
     "text": [
      "{'a': 4, 'crow': 2, 'walked': 1, 'into': 1, 'bar': 1, 'and': 1, 'asks': 1, 'for': 1, 'drink': 1, 'the': 2, 'bartender': 2, 'says': 1, 'I': 1, 'hope': 1, 'you': 1, 'friends': 1, 'are': 1, 'not': 1, 'coming': 1, 'because': 1, 'last': 1, 'time': 1, 'there': 1, 'was': 1, 'murder': 1}\n"
     ]
    }
   ],
   "source": [
    "sentence = \"a crow walked into a crow bar and asks for a drink the bartender the bartender says I hope you friends are not coming because last time there was a murder\"\n",
    "\n",
    "count_dict={}\n",
    "for word in sentence.split():\n",
    "    if word not in count_dict:\n",
    "        count_dict[word]=1\n",
    "    else:\n",
    "        count_dict[word]+=1\n",
    "print(count_dict)"
   ]
  },
  {
   "cell_type": "code",
   "execution_count": 8,
   "metadata": {},
   "outputs": [
    {
     "name": "stdout",
     "output_type": "stream",
     "text": [
      "{'a': 4, 'crow': 2, 'walked': 1, 'into': 1, 'bar': 1, 'and': 1, 'asks': 1, 'for': 1, 'drink': 1, 'the': 2, 'bartender': 2, 'says': 1, 'I': 1, 'hope': 1, 'you': 1, 'friends': 1, 'are': 1, 'not': 1, 'coming': 1, 'because': 1, 'last': 1, 'time': 1, 'there': 1, 'was': 1, 'murder': 1}\n"
     ]
    }
   ],
   "source": [
    "sentence = \"a crow walked into a crow bar and asks for a drink the bartender the bartender says I hope you friends are not coming because last time there was a murder\"\n",
    "\n",
    "count_dict={}\n",
    "for word in sentence.split():\n",
    "    count_dict[word]= count_dict.get(word,0)+1\n",
    "print(count_dict)"
   ]
  },
  {
   "cell_type": "code",
   "execution_count": null,
   "metadata": {},
   "outputs": [],
   "source": []
  },
  {
   "cell_type": "markdown",
   "metadata": {
    "id": "eBfX4HIytkyQ"
   },
   "source": [
    "##### sorted()"
   ]
  },
  {
   "cell_type": "code",
   "execution_count": 15,
   "metadata": {
    "id": "YXw_71-utkyQ",
    "outputId": "7afc3c4f-fb0c-4f76-a48e-cd0ca955cb7f"
   },
   "outputs": [
    {
     "name": "stdout",
     "output_type": "stream",
     "text": [
      "['Barney', 'Larney', 'Lilly', 'Max', 'Ted']\n",
      "['Ted', 'Max', 'Lilly', 'Larney', 'Barney']\n",
      "['Barney', 'Larney', 'Lilly', 'Max', 'Ted']\n",
      "['blue', 'blue', 'brown', 'brown', 'purple']\n",
      "dict_items([('Max', 'blue'), ('Lilly', 'brown'), ('Barney', 'blue'), ('Larney', 'brown'), ('Ted', 'purple')])\n"
     ]
    }
   ],
   "source": [
    "people = {\n",
    "    'Max': 'blue',\n",
    "    'Lilly': 'brown',\n",
    "    'Barney': 'blue',\n",
    "    'Larney': 'brown',\n",
    "    'Ted': 'purple'\n",
    "}\n",
    "\n",
    "print(\n",
    "sorted(people))\n",
    "\n",
    "#or \n",
    "print(\n",
    "sorted(people, reverse=True))\n",
    "\n",
    "#or\n",
    "\n",
    "print(\n",
    "sorted(people.keys()))\n",
    "\n",
    "print(\n",
    "sorted(people.values()))\n",
    "\n",
    "print(people.items()) #<--tuple of key & value\n"
   ]
  },
  {
   "cell_type": "markdown",
   "metadata": {
    "id": "iydsJ6wttkyR"
   },
   "source": [
    "##### List with Dictionaries"
   ]
  },
  {
   "cell_type": "code",
   "execution_count": 34,
   "metadata": {},
   "outputs": [
    {
     "name": "stdout",
     "output_type": "stream",
     "text": [
      "Steve\n"
     ]
    }
   ],
   "source": [
    "my_dict = {\"random_guy\": \"Steve\", \"another_guy\": \"Travis\"}\n",
    "print(\n",
    "(my_dict[\"random_guy\"]))"
   ]
  },
  {
   "cell_type": "code",
   "execution_count": 37,
   "metadata": {
    "id": "KSmaQj9AtkyR",
    "outputId": "38d9012a-0812-41e0-9276-c11a2a3e6e72"
   },
   "outputs": [
    {
     "name": "stdout",
     "output_type": "stream",
     "text": [
      "['Marcus', 'Connor', {'random_guy': ['jalop', 'bacon', 'eggs'], 'another_guy': 'Travis'}, 'Perry', 'Lizzette']\n",
      "{'random_guy': ['jalop', 'bacon', 'eggs'], 'another_guy': 'Travis'}\n",
      "eggs\n"
     ]
    }
   ],
   "source": [
    "names = [\"Marcus\", \"Connor\",{\"random_guy\": [\"jalop\",\"bacon\",\"eggs\"], \"another_guy\": \"Travis\"}, \"Perry\", \"Lizzette\"]\n",
    "print(names)\n",
    "\n",
    "print(names[2]) #<---- to print dict\n",
    "\n",
    "print(\n",
    "    names[2][\"random_guy\"][2])\n",
    "\n",
    "\n"
   ]
  },
  {
   "cell_type": "code",
   "execution_count": null,
   "metadata": {},
   "outputs": [],
   "source": []
  },
  {
   "cell_type": "code",
   "execution_count": null,
   "metadata": {},
   "outputs": [],
   "source": []
  },
  {
   "cell_type": "code",
   "execution_count": null,
   "metadata": {},
   "outputs": [],
   "source": []
  },
  {
   "cell_type": "markdown",
   "metadata": {
    "id": "dLJlNXNRtkyR"
   },
   "source": [
    "##### Dictionaries with Lists"
   ]
  },
  {
   "cell_type": "code",
   "execution_count": 41,
   "metadata": {
    "id": "LAESm7mvtkyS",
    "outputId": "80506949-4e40-4f8b-84e7-2ff3a21edb39"
   },
   "outputs": [
    {
     "name": "stdout",
     "output_type": "stream",
     "text": [
      "=====================\n",
      "Item Name: Item A\n",
      "Item Price: 2.99\n",
      "Item Desc: A jolly good Item\n",
      "=====================\n",
      "Item Name: Item B\n",
      "Item Price: 10.99\n",
      "Item Desc: A waste of your money\n",
      "=====================\n",
      "Item Name: Item C\n",
      "Item Price: 0.99\n",
      "Item Desc: Too cheap to use; came from wish.com\n"
     ]
    }
   ],
   "source": [
    "# be careful when using numbers as keys in dictionaries, don't confuse them with indexes\n",
    "\n",
    "all_items = [\n",
    "    {\n",
    "        \"name\":\"Item A\",\n",
    "        \"price\":2.99,\n",
    "        \"desc\" : \"A jolly good Item\"\n",
    "    },\n",
    "    {\n",
    "        \"name\": \"Item B\",\n",
    "        \"price\":10.99,\n",
    "        \"desc\": \"A waste of your money\"\n",
    "    },\n",
    "    {\n",
    "        \"name\": \"Item C\",\n",
    "        \"price\": 0.99,\n",
    "        \"desc\":\"Too cheap to use; came from wish.com\"\n",
    "    }\n",
    "]\n",
    "\n",
    "\n",
    "\n",
    "\n",
    "for item in all_items:\n",
    "    print(\"=====================\")\n",
    "    print(f\"Item Name: {item['name']}\")\n",
    "    print(f\"Item Price: {item['price']}\" )\n",
    "    print(f\"Item Desc: {item['desc']}\" )"
   ]
  },
  {
   "cell_type": "markdown",
   "metadata": {
    "id": "6a4VbpNRtkyS"
   },
   "source": [
    "##### Dictionaries with Dictionaries"
   ]
  },
  {
   "cell_type": "code",
   "execution_count": null,
   "metadata": {},
   "outputs": [],
   "source": []
  },
  {
   "cell_type": "code",
   "execution_count": 94,
   "metadata": {
    "id": "Ox0rBuXDtkyS",
    "outputId": "3d953d92-52f2-4236-c03b-20204b333b4d"
   },
   "outputs": [
    {
     "name": "stdout",
     "output_type": "stream",
     "text": [
      "Caleb Schmidt\n",
      "True\n",
      "{'name': 'Wii Sports', 'rating': 7}\n",
      "8\n",
      "I am disgusted\n",
      "{'mint_chip': True, 'strawberry': True, 'vanilla': False}\n",
      "he likes mint_chip\n",
      "he likes strawberry\n",
      "he hates  vanilla\n",
      "[{'name': 'Wii Sports', 'rating': 7}, {'name': 'Smash Ult', 'rating': 8}, {'name': 'Starcraft', 'rating': 6}]\n",
      "Wii Sports has a rating of 7\n",
      "Smash Ult has a rating of 8\n",
      "Starcraft has a rating of 6\n",
      "I am an idiot\n",
      "Starcraft\n",
      "['I am tired', 'I am confused', 'I am disgusted', 'I am genius', 'I am an idiot']\n",
      "I am confused\n",
      "I am genius\n",
      "{'name': 'Smash Ult', 'rating': 8}\n"
     ]
    }
   ],
   "source": [
    "caleb ={\n",
    "    \"first_name\": \"Caleb\",\n",
    "    \"last_name\":\"Schmidt\",\n",
    "    \"ice_cream\":{\n",
    "        \"mint_chip\": True,\n",
    "        \"strawberry\": True,\n",
    "        \"vanilla\": False\n",
    "    },\n",
    "    \"games\":[\n",
    "        {\n",
    "            \"name\":\"Wii Sports\",\n",
    "            \"rating\": 7\n",
    "        },\n",
    "        {\n",
    "            \"name\":\"Smash Ult\",\n",
    "            \"rating\":8\n",
    "        },\n",
    "        {\n",
    "            \"name\":\"Starcraft\",\n",
    "            \"rating\":6\n",
    "        }\n",
    "    ],\n",
    "    \"emotions\":[\"I am tired\", \"I am confused\",\"I am disgusted\", \"I am genius\",\"I am an idiot\"]\n",
    "    \n",
    "}\n",
    "\n",
    "print(f\"{caleb['first_name']} {caleb['last_name']}\")\n",
    "\n",
    "print(caleb[\"ice_cream\"][\"mint_chip\"])\n",
    "\n",
    "print(caleb[\"games\"][0])\n",
    "\n",
    "print(caleb[\"games\"][1][\"rating\"])\n",
    "\n",
    "print(caleb[\"emotions\"][2])\n",
    "\n",
    "icecreams = caleb[\"ice_cream\"]\n",
    "print(icecreams)\n",
    "for flavor,likes in icecreams.items():\n",
    "    if likes:\n",
    "        print(\"he likes\", flavor)\n",
    "    else:\n",
    "        print(\"he hates \", flavor)\n",
    "        \n",
    "games = caleb[\"games\"]\n",
    "print(games)\n",
    "for game in games:\n",
    "    print(f'{game[\"name\"]} has a rating of {game[\"rating\"]}')\n",
    "    \n",
    "print(caleb[\"emotions\"][4])\n",
    "\n",
    "print(caleb[\"games\"][-1][\"name\"])\n",
    "\n",
    "feelings = caleb[\"emotions\"]\n",
    "print(feelings)\n",
    "for index, feeling in enumerate(feelings):\n",
    "    if index % 2 != 0:\n",
    "        print(feeling)\n",
    "        \n",
    "print(caleb[\"games\"][1])\n",
    "                     \n",
    "\n",
    "\n"
   ]
  },
  {
   "cell_type": "markdown",
   "metadata": {
    "id": "qLcuftHjtkyS"
   },
   "source": [
    "## Dictionaries vs. Lists (over time) Example of RUNTIME\n",
    "### When inputting values in a Dictionary vs List"
   ]
  },
  {
   "cell_type": "code",
   "execution_count": null,
   "metadata": {
    "id": "xM0KJsyHtkyT"
   },
   "outputs": [],
   "source": [
    "import time\n",
    "\n",
    "\n",
    "# generate fake dictionary\n",
    "d = {}\n",
    "\n",
    "for i in range(10000000):\n",
    "    d[i] = 'value'\n",
    "    \n",
    "\n",
    "# generate fake list\n",
    "big_list = [x for x in range(10000000)]"
   ]
  },
  {
   "cell_type": "code",
   "execution_count": null,
   "metadata": {
    "id": "A6yUJh-wtkyT",
    "outputId": "d4309011-d68d-4ba2-e13d-bf9213687ad4"
   },
   "outputs": [
    {
     "name": "stdout",
     "output_type": "stream",
     "text": [
      "value\n",
      "Elapsed time for dictionary: 0.0\n",
      "9999999\n",
      "Elapsed time for list: 0.6332945823669434\n"
     ]
    }
   ],
   "source": [
    "# tracking time for dictionary\n",
    "start_time = time.time()\n",
    "\n",
    "print(d[9999999])\n",
    "\n",
    "end_time = time.time() - start_time\n",
    "\n",
    "print('Elapsed time for dictionary: {}'.format(end_time))\n",
    "\n",
    "\n",
    "# tracking time for list\n",
    "start_time = time.time()\n",
    "\n",
    "for i in range(len(big_list)):\n",
    "    if i == 9999999:\n",
    "        print(i)\n",
    "\n",
    "end_time = time.time() - start_time\n",
    "\n",
    "print('Elapsed time for list: {}'.format(end_time))"
   ]
  },
  {
   "cell_type": "markdown",
   "metadata": {
    "id": "CmcdSTb0tkyT"
   },
   "source": [
    "## Exercise #3 - Write a Function that asks someone's name and address, and then stores that into a dictionary, and continues to do so until they choose to 'quit'. Once they quit, the program should print all names and addresses. <br>\n",
    "<p>\n",
    "<b>Proper steps:</b><br>\n",
    "step 1: write a function that takes in information and stores it in a dictionary<br>\n",
    "step 2: define an empty dictionary to work with<br>\n",
    "step 3: create our loop, which asks the user for information until they quit<br>\n",
    "step 4: ask for the information, and store it into variables<br>\n",
    "step 5: check if the user types quit<br>\n",
    "step 5a: print out all information<br>\n",
    "step 5b: break out of the loop<br>\n",
    "step 6: if they didn't quit, add the information to the dictionary<br>\n",
    "step 7: invoke the function by calling it\n",
    "</p>"
   ]
  },
  {
   "cell_type": "code",
   "execution_count": 1,
   "metadata": {
    "id": "vmpJoD07tkyT",
    "outputId": "ae2c6966-4c99-415b-bb19-6dd75315f401"
   },
   "outputs": [
    {
     "name": "stdout",
     "output_type": "stream",
     "text": [
      "What is your name? connor\n",
      "What is the adress for connor? quit\n",
      "{}\n"
     ]
    },
    {
     "data": {
      "text/plain": [
       "{}"
      ]
     },
     "execution_count": 1,
     "metadata": {},
     "output_type": "execute_result"
    }
   ],
   "source": [
    "\n",
    "def address_book_function():\n",
    "    address_book = {}\n",
    "    while True:\n",
    "        name = input(\"What is your name? \").strip()\n",
    "        if name.lower() == 'quit':\n",
    "            print(address_book)\n",
    "            break\n",
    "        address = input(f\"What is the adress for {name}? \").strip()\n",
    "        if address.lower() == 'quit':\n",
    "            print(address_book)\n",
    "            break\n",
    "        address_book[name]=address\n",
    "    return address_book\n",
    "\n",
    "address_book_function()"
   ]
  },
  {
   "cell_type": "markdown",
   "metadata": {
    "id": "LFv5HdFLtkyU"
   },
   "source": [
    "## Set <br>\n",
    "<p>A Set is an unordered collection data type that is iterable (loop), mutable, and has no duplicate elements.<br>Major advantage is that it is highly optimized in checking if something is in the set, as opposed to checking if something is in a list.</p>"
   ]
  },
  {
   "cell_type": "markdown",
   "metadata": {
    "id": "320mXOtOtkyU"
   },
   "source": [
    "##### Declaring"
   ]
  },
  {
   "cell_type": "code",
   "execution_count": 109,
   "metadata": {
    "id": "0ubJ6ywttkyU",
    "outputId": "d51d1008-ed86-4638-9b02-de9c31eaefa5"
   },
   "outputs": [
    {
     "name": "stdout",
     "output_type": "stream",
     "text": [
      "{1, 2, 3, 4}\n"
     ]
    }
   ],
   "source": [
    "my_set = {1,1,1,1,2,3,4}\n",
    "print(my_set)"
   ]
  },
  {
   "cell_type": "markdown",
   "metadata": {
    "id": "jpl0oOsVtkyU"
   },
   "source": [
    "##### .add()"
   ]
  },
  {
   "cell_type": "code",
   "execution_count": 113,
   "metadata": {
    "id": "WJVSxULWtkyV",
    "outputId": "2892ca2a-5fcb-43b8-c5fe-4071f7733f51"
   },
   "outputs": [
    {
     "name": "stdout",
     "output_type": "stream",
     "text": [
      "{'D', 'A', 'B', 'C'}\n"
     ]
    }
   ],
   "source": [
    "my_set = {\"A\",\"B\",\"C\"}\n",
    "\n",
    "my_set.add(\"D\")\n",
    "print(my_set)\n",
    "\n",
    "my_set.add(\"A\") #<--- cannot add dup\n",
    "print(my_set)"
   ]
  },
  {
   "cell_type": "code",
   "execution_count": null,
   "metadata": {},
   "outputs": [],
   "source": []
  },
  {
   "cell_type": "markdown",
   "metadata": {
    "id": "wDZRUd6atkyV"
   },
   "source": [
    "##### .remove()"
   ]
  },
  {
   "cell_type": "code",
   "execution_count": 118,
   "metadata": {
    "id": "b9z8ItLmtkyV",
    "outputId": "a2bb4a7c-78e0-4f54-8dba-227e0f134e49"
   },
   "outputs": [
    {
     "name": "stdout",
     "output_type": "stream",
     "text": [
      "{'A', 'C'}\n"
     ]
    }
   ],
   "source": [
    "my_set = {\"A\",\"B\",\"C\"}\n",
    "\n",
    "my_set.remove(\"B\")\n",
    "print(my_set)\n",
    "my_set.discard(\"D\")"
   ]
  },
  {
   "cell_type": "markdown",
   "metadata": {
    "id": "WCnks_5XtkyV"
   },
   "source": [
    "##### .union() "
   ]
  },
  {
   "cell_type": "code",
   "execution_count": 119,
   "metadata": {
    "id": "_H5wFuMBtkyV",
    "outputId": "4aefa229-8b10-48f7-b575-d7d0899cc17c"
   },
   "outputs": [
    {
     "data": {
      "text/plain": [
       "{1, 2, 3, 4, 5, 6, 7, 8}"
      ]
     },
     "execution_count": 119,
     "metadata": {},
     "output_type": "execute_result"
    }
   ],
   "source": [
    "# Returns a union of two sets, can also use '|' or set.union(set)\n",
    "set1 = {1,2,3,4,}\n",
    "set2 = {5,6,7,8}\n",
    "\n",
    "set1.union(set2)"
   ]
  },
  {
   "cell_type": "code",
   "execution_count": 120,
   "metadata": {},
   "outputs": [
    {
     "data": {
      "text/plain": [
       "{1, 2, 3, 4, 5, 6, 7, 8}"
      ]
     },
     "execution_count": 120,
     "metadata": {},
     "output_type": "execute_result"
    }
   ],
   "source": [
    "set2.union(set1)"
   ]
  },
  {
   "cell_type": "code",
   "execution_count": 121,
   "metadata": {},
   "outputs": [
    {
     "data": {
      "text/plain": [
       "{1, 2, 3, 4, 5, 6, 7, 8}"
      ]
     },
     "execution_count": 121,
     "metadata": {},
     "output_type": "execute_result"
    }
   ],
   "source": [
    "set1 | set2 #<<-- union operator"
   ]
  },
  {
   "cell_type": "markdown",
   "metadata": {
    "id": "mQH9McXMtkyW"
   },
   "source": [
    "##### .intersection()"
   ]
  },
  {
   "cell_type": "code",
   "execution_count": 123,
   "metadata": {
    "id": "IteHNeQztkyW",
    "outputId": "3fca768c-97ee-48ea-8181-8d2fcc9a8739"
   },
   "outputs": [
    {
     "data": {
      "text/plain": [
       "{4, 5}"
      ]
     },
     "execution_count": 123,
     "metadata": {},
     "output_type": "execute_result"
    }
   ],
   "source": [
    "# Returns an intersection of two sets, can also use '&'\n",
    "# only takes similar elements from both sets\n",
    "\n",
    "set1 = {1,2,3,4,5}\n",
    "set2 = {4,5,6,7,8}\n",
    "\n",
    "set1.intersection(set2)\n",
    "set2.intersection(set1)"
   ]
  },
  {
   "cell_type": "code",
   "execution_count": 124,
   "metadata": {},
   "outputs": [
    {
     "data": {
      "text/plain": [
       "{4, 5}"
      ]
     },
     "execution_count": 124,
     "metadata": {},
     "output_type": "execute_result"
    }
   ],
   "source": [
    "set1 & set2\n"
   ]
  },
  {
   "cell_type": "markdown",
   "metadata": {
    "id": "1syJoVyKtkyW"
   },
   "source": [
    "##### .difference()"
   ]
  },
  {
   "cell_type": "code",
   "execution_count": 125,
   "metadata": {
    "id": "wr2kzCYKtkyW",
    "outputId": "f98b0cae-7d12-47b3-ff52-a09c397a3792"
   },
   "outputs": [
    {
     "data": {
      "text/plain": [
       "{1, 2, 3}"
      ]
     },
     "execution_count": 125,
     "metadata": {},
     "output_type": "execute_result"
    }
   ],
   "source": [
    "# Returns a set containing all the elements of invoking set that are not in the second set, can also use '-'\n",
    "# only takes values from the first set that are not in the second set\n",
    "\n",
    "set1.difference(set2)\n"
   ]
  },
  {
   "cell_type": "code",
   "execution_count": 126,
   "metadata": {},
   "outputs": [
    {
     "data": {
      "text/plain": [
       "{6, 7, 8}"
      ]
     },
     "execution_count": 126,
     "metadata": {},
     "output_type": "execute_result"
    }
   ],
   "source": [
    "set2.difference(set1)"
   ]
  },
  {
   "cell_type": "markdown",
   "metadata": {
    "id": "26TWgG-RtkyW"
   },
   "source": [
    "##### .clear()"
   ]
  },
  {
   "cell_type": "code",
   "execution_count": 127,
   "metadata": {
    "id": "7B1RcfdqtkyW",
    "outputId": "43fac56a-0a99-4fb6-fae8-da74962680e4"
   },
   "outputs": [
    {
     "name": "stdout",
     "output_type": "stream",
     "text": [
      "set()\n"
     ]
    }
   ],
   "source": [
    "# Empties the whole set\n",
    "# set.clear()\n",
    "\n",
    "set1.clear()\n",
    "print(set1)"
   ]
  },
  {
   "cell_type": "markdown",
   "metadata": {
    "id": "HGvSTp0xtkyX"
   },
   "source": [
    "##### Frozenset <br>\n",
    "<p>Frozen sets are immutable objects that only support methods and operators that produce a result without affecting the frozen set or sets to which they are applied.</p><br><b>Unique & Immutable</b>"
   ]
  },
  {
   "cell_type": "code",
   "execution_count": 129,
   "metadata": {
    "id": "BjRR5Y_1tkyX",
    "outputId": "1ee963d2-9794-45bd-94a2-1fa3448832a3"
   },
   "outputs": [
    {
     "data": {
      "text/plain": [
       "frozenset({1, 2, 3, 4, 5, 6})"
      ]
     },
     "execution_count": 129,
     "metadata": {},
     "output_type": "execute_result"
    }
   ],
   "source": [
    "# frozenset([])\n",
    "s3 = {1,2,3,4,5,6}\n",
    "s_frozen = frozenset(s3) #<---- cannot be modified\n",
    "s_frozen"
   ]
  },
  {
   "cell_type": "markdown",
   "metadata": {
    "id": "2gkFJyzytkyX"
   },
   "source": [
    "## Modules"
   ]
  },
  {
   "cell_type": "markdown",
   "metadata": {
    "id": "7b--YJXntkyX"
   },
   "source": [
    "##### Importing Entire Modules"
   ]
  },
  {
   "cell_type": "code",
   "execution_count": 130,
   "metadata": {
    "id": "j7dC0ozitkyX",
    "outputId": "0eadf679-8fe8-4e0f-e316-b07b9b305033"
   },
   "outputs": [],
   "source": [
    "# import or from 'xxx' import *\n",
    "# import math\n",
    "import math\n",
    "\n"
   ]
  },
  {
   "cell_type": "markdown",
   "metadata": {
    "id": "LUt8aR3etkyX"
   },
   "source": [
    "##### Importing Methods Only"
   ]
  },
  {
   "cell_type": "code",
   "execution_count": 133,
   "metadata": {
    "id": "FzWTJcZjtkyY",
    "outputId": "83455281-72a1-4a31-e13f-0f2166eb41c1"
   },
   "outputs": [
    {
     "name": "stdout",
     "output_type": "stream",
     "text": [
      "3.141592653589793\n"
     ]
    }
   ],
   "source": [
    "# from 'xxx' import 'xxx'\n",
    "# from math import floor\n",
    "from math import pi, ceil\n",
    "\n",
    "print(pi)"
   ]
  },
  {
   "cell_type": "markdown",
   "metadata": {
    "id": "Jt5jNmc0tkyY"
   },
   "source": [
    "##### Using the 'as' Keyword"
   ]
  },
  {
   "cell_type": "code",
   "execution_count": null,
   "metadata": {
    "id": "dshHluZYtkyY",
    "outputId": "004549f8-5da0-41ba-ac37-5923d5a4fae7"
   },
   "outputs": [
    {
     "name": "stdout",
     "output_type": "stream",
     "text": [
      "3.141592653589793\n",
      "3\n"
     ]
    }
   ],
   "source": [
    "# from 'xxx' import 'xxx' as 'xxx' or import 'xxx' as 'xxx'\n",
    "# from math import floor as f\n",
    "from math import floor as f, pi as p\n",
    "\n",
    "print(p)\n",
    "print(f(p))"
   ]
  },
  {
   "cell_type": "markdown",
   "metadata": {
    "id": "t8W7RQnCtkyY"
   },
   "source": [
    "##### Creating a Module"
   ]
  },
  {
   "cell_type": "code",
   "execution_count": null,
   "metadata": {
    "id": "3z5o0SV3tkyY",
    "outputId": "f1c8efa6-a243-4a93-a1fe-8f675ad53a32"
   },
   "outputs": [
    {
     "name": "stdout",
     "output_type": "stream",
     "text": [
      "Hello Mr/Ms Joel...we've been waiting for you!\n",
      "None\n"
     ]
    }
   ],
   "source": [
    "import module\n",
    "\n",
    "print(module.printName('Joel'))"
   ]
  },
  {
   "cell_type": "code",
   "execution_count": 3,
   "metadata": {},
   "outputs": [
    {
     "name": "stdout",
     "output_type": "stream",
     "text": [
      "Do you want to apply to my Company? no\n",
      "Why did you even come here? \n"
     ]
    }
   ],
   "source": [
    "def get_name():\n",
    "    name = input(\"What is your first and last name? \")\n",
    "    return name\n",
    "\n",
    "def get_last_job():\n",
    "    job = input(\"What is your prev job? \")\n",
    "    return job\n",
    "\n",
    "def get_location():\n",
    "    location = input(\"What is your pref. location? NY/SF/Raleigh\")\n",
    "    return location\n",
    "\n",
    "\n",
    "def main():\n",
    "    while True:\n",
    "        response = input(\"Do you want to apply to my Company? \")\n",
    "        if response[0].lower()!='y':\n",
    "            print(\"Why did you even come here? \")\n",
    "            break\n",
    "        name = get_name()\n",
    "        job = get_last_job()\n",
    "        location= get_location()\n",
    "        print(f\"name: {name} \\n job: {job} \\n location: {location}\")\n",
    "        response = input(\"Is this info corect? \")\n",
    "        if response[0].lower() == 'y':\n",
    "            print(\"Thanks for applying\")\n",
    "            break\n",
    "        wrong = input(\"What field was wrong? name/job/local?\").lower()\n",
    "        if wrong == \"name\":\n",
    "            name = get_name()\n",
    "        elif wrong == \"job\":\n",
    "            job = get_last_job()\n",
    "        elif wrong == \"local\":\n",
    "            location= get_location()\n",
    "        print(\"Thanks for applying\")\n",
    "        break\n",
    "\n",
    "main()\n"
   ]
  },
  {
   "cell_type": "markdown",
   "metadata": {
    "id": "rnVCYaWNtkyZ"
   },
   "source": [
    "# Exercises"
   ]
  },
  {
   "cell_type": "markdown",
   "metadata": {
    "id": "PMNQ6dI9tkyZ"
   },
   "source": [
    "### 1) Build a Shopping Cart <br>\n",
    "<p><b>You can use either lists or dictionaries. The program should have the following capabilities:</b><br><br>\n",
    "1) Takes in input <br>\n",
    "2) Stores user input into a dictionary or list <br>\n",
    "3) The User can add or delete items <br>\n",
    "4) The User can see current shopping list <br>\n",
    "5) The program Loops until user 'quits' <br>\n",
    "6) Upon quiting the program, print out all items in the user's list <br>\n",
    "</p>"
   ]
  },
  {
   "cell_type": "code",
   "execution_count": null,
   "metadata": {
    "id": "_WFgS4YKtkyZ"
   },
   "outputs": [
    {
     "name": "stdout",
     "output_type": "stream",
     "text": [
      "hockey sticks was removed from your shopping cart\n"
     ]
    }
   ],
   "source": [
    "from IPython.display import clear_output\n",
    "\n",
    "# Ask the user 5 bits of input: Do you want to : Show/Add/Delete/clear or Quit?\n",
    "\n",
    "\n",
    "shopping_cart = []\n",
    "\n",
    "def add_item(i):\n",
    "    clear_output()\n",
    "    shopping_cart.append(i)\n",
    "    print(f'{i} was added to your shopping cart')\n",
    "\n",
    "def show_cart():\n",
    "    clear_output()\n",
    "    print(\"Your cart contains: \")\n",
    "    for item in shopping_cart:\n",
    "        print(item)\n",
    "    if not shopping_cart:\n",
    "        print(\"Your cart is empty\")\n",
    "\n",
    "def remove_item(i):\n",
    "    clear_output()\n",
    "    shopping_cart.remove(i)\n",
    "    print(f'{i} was removed from your shopping cart' )\n",
    "\n",
    "def clear_cart():\n",
    "    clear_output()\n",
    "    shopping_cart.clear()\n",
    "    print(\"Your cart is empty\")\n",
    "\n",
    "def main():\n",
    "    while True:\n",
    "        response = input(\"\"\"What would you like to do?\n",
    "add\n",
    "remove\n",
    "show\n",
    "clear\n",
    "quit                  \n",
    "        \"\"\")\n",
    "        if response.lower().strip()=='quit':\n",
    "            show_cart()\n",
    "            print(\"Thanks for shopping\")\n",
    "            break\n",
    "        elif response.lower().strip()=='add':\n",
    "            item = input(\"Which items would you like to add to your shopping cart?\")\n",
    "            add_item(item)\n",
    "        elif response.lower().strip()=='remove':\n",
    "            item = input(\"Which items would you like to remove from your shopping cart?\")\n",
    "            remove_item(item)\n",
    "        elif response.lower().strip()=='show':\n",
    "            show_cart()\n",
    "        elif response.lower().strip()=='clear':\n",
    "            clear_cart()\n",
    "        else:\n",
    "            print(\"This option is not valid, Try Again\")\n",
    "                         \n",
    "                \n",
    "if __name__ == \"__main__\":\n",
    "    main()\n",
    "\n",
    "        \n"
   ]
  },
  {
   "cell_type": "markdown",
   "metadata": {
    "id": "OFmdSk4JtkyZ"
   },
   "source": [
    "### 2) Create a Module in VS Code and Import It into jupyter notebook <br>\n",
    "<p><b>Module should have the following capabilities:</b><br><br>\n",
    "1) Has a function to calculate the square footage of a house <br>\n",
    "    <b>Reminder of Formula: Length X Width == Area<br>\n",
    "        <hr>\n",
    "2) Has a function to calculate the circumference of a circle <br><br>\n",
    "<b>Program in Jupyter Notebook should take in user input and use imported functions to calculate a circle's circumference or a houses square footage</b>\n",
    "</p>"
   ]
  },
  {
   "cell_type": "code",
   "execution_count": null,
   "metadata": {
    "id": "q9dOkQZStkyZ"
   },
   "outputs": [],
   "source": [
    "def  square_ft ( num1, num2):\n",
    "    num1 = input(\"insert width: \")\n",
    "    num2 = input(\"insert length: \")\n",
    "    \n",
    "\n",
    "    answer = int(num1) * int(num2)\n",
    "    return answer\n",
    "\n",
    "\n",
    "def circ(rad):\n",
    "    from math import pi\n",
    "    radius = input (\"What is the radius of your circle?\")\n",
    "\n",
    "    answer = int(rad)*2*pi\n",
    "    return answer"
   ]
  },
  {
   "cell_type": "code",
   "execution_count": null,
   "metadata": {},
   "outputs": [],
   "source": []
  }
 ],
 "metadata": {
  "colab": {
   "collapsed_sections": [
    "sXNEqY_PtkyP",
    "qLcuftHjtkyS",
    "CmcdSTb0tkyT",
    "LFv5HdFLtkyU",
    "2gkFJyzytkyX",
    "PMNQ6dI9tkyZ",
    "OFmdSk4JtkyZ"
   ],
   "name": "Wednesday_Lesson_Inclass-Updated-Lecture-Updated2021.ipynb",
   "provenance": []
  },
  "kernelspec": {
   "display_name": "Python 3.9.7 64-bit",
   "language": "python",
   "name": "python3"
  },
  "language_info": {
   "codemirror_mode": {
    "name": "ipython",
    "version": 3
   },
   "file_extension": ".py",
   "mimetype": "text/x-python",
   "name": "python",
   "nbconvert_exporter": "python",
   "pygments_lexer": "ipython3",
   "version": "3.9.7"
  },
  "vscode": {
   "interpreter": {
    "hash": "548dac07622efb96875643a85d31f487692bd9914ffebbdc3052e0f26da24358"
   }
  }
 },
 "nbformat": 4,
 "nbformat_minor": 1
}
